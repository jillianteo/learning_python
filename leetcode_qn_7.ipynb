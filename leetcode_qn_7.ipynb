#Given a 32-bit signed integer, reverse digits of an integer.
#Note:
#Assume we are dealing with an environment that could only store integers within the 32-bit signed integer range: [−231,  231 − 1]. For the purpose of this problem, assume that your function returns 0 when the reversed integer overflows.


class Solution:
    def reverse(self, x: int) -> int:
        
        if (x<0):
            check_sign = -1
        else:
            check_sign = 1
    
        sign_x = x*check_sign
        
        y = list(str(sign_x))
        y.reverse()

        rev_y = ''.join(y)
        rev_x = int(rev_y) * check_sign
        
        if(rev_x>=2**31-1 or rev_x <= -2**31):
            return 0
        else:
            return(rev_x)
        
