{
 "cells": [
  {
   "cell_type": "code",
   "execution_count": 27,
   "metadata": {},
   "outputs": [
    {
     "name": "stdout",
     "output_type": "stream",
     "text": [
      "[0,1]\n"
     ]
    }
   ],
   "source": [
    "# Leet Code: 1. 2 sum\n",
    "#Given an array of integers nums and an integer target, return indices of the two numbers such that they add up to target.\n",
    "#You may assume that each input would have exactly one solution, and you may not use the same element twice.\n",
    "#You can return the answer in any order.\n",
    "\n",
    "\n",
    "def twoSum(nums, target):\n",
    "        \n",
    "    len_nums = len(nums)\n",
    "        \n",
    "    for i in range(len_nums):\n",
    "    \n",
    "        for count in range(len_nums):\n",
    "        \n",
    "            if(i > count):\n",
    "            \n",
    "                checksum = nums[count] + nums[i]\n",
    "            \n",
    "                if(checksum==target):\n",
    "                    \n",
    "                    print('[',count,',',i,']',sep='')\n",
    "                    \n",
    "                else:\n",
    "            \n",
    "                    count = count + 1\n",
    "\n",
    "                \n",
    "#nums = [2,7,11,15]\n",
    "#target = 9\n",
    "\n",
    "3twoSum(nums,target)"
   ]
  }
 ],
 "metadata": {
  "kernelspec": {
   "display_name": "Python",
   "language": "python",
   "name": "conda-env-python-py"
  },
  "language_info": {
   "codemirror_mode": {
    "name": "ipython",
    "version": 3
   },
   "file_extension": ".py",
   "mimetype": "text/x-python",
   "name": "python",
   "nbconvert_exporter": "python",
   "pygments_lexer": "ipython3",
   "version": "3.6.11"
  }
 },
 "nbformat": 4,
 "nbformat_minor": 4
}
